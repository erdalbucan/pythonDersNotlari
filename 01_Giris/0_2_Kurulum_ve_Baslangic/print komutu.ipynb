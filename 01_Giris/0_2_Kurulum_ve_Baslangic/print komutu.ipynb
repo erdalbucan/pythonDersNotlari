{
 "cells": [
  {
   "cell_type": "markdown",
   "metadata": {},
   "source": [
    "# print komutu ve kullanımı"
   ]
  },
  {
   "cell_type": "code",
   "execution_count": 7,
   "metadata": {},
   "outputs": [
    {
     "name": "stdout",
     "output_type": "stream",
     "text": [
      "Mehaba \n",
      "Yakin Kampüs\n",
      "Benim adim \tMesut\n"
     ]
    }
   ],
   "source": [
    "print(\"Mehaba \\nYakin Kampüs\")\n",
    "print(\"Benim adim \\tMesut\")"
   ]
  },
  {
   "cell_type": "code",
   "execution_count": 13,
   "metadata": {},
   "outputs": [
    {
     "name": "stdout",
     "output_type": "stream",
     "text": [
      "Benim adim Mesut\n",
      "Benim adim Mesut, yasim 32\n",
      "Benim adim Mesut, yasim 32\n",
      "Benim adim 32, yasim Mesut\n",
      "Benim adim Mesut, yasim 32\n",
      "Benim adim Mesut, yasim 32\n"
     ]
    }
   ],
   "source": [
    "print(\"Benim adim {}\".format('Mesut'))\n",
    "print(\"Benim adim {}, yasim {}\".format('Mesut', 32))\n",
    "\n",
    "print(\"Benim adim {0}, yasim {1}\".format('Mesut', 32))\n",
    "print(\"Benim adim {1}, yasim {0}\".format('Mesut', 32))\n",
    "\n",
    "print(\"Benim adim {ad}, yasim {yas}\".format(ad='Mesut', yas=32))\n",
    "print(\"Benim adim {ad}, yasim {yas}\".format(yas=32, ad='Mesut'))"
   ]
  },
  {
   "cell_type": "markdown",
   "metadata": {},
   "source": [
    "# Degiskenler\n",
    "Kabul edilmeyen degisken isim atama senaryolari:\n",
    "* sayi ile baslamak\n",
    "* bosluk icermek\n",
    "* \"*(/ gibi semboller icermek\n",
    "* rezerve edilmis isimleri kullanmak"
   ]
  },
  {
   "cell_type": "code",
   "execution_count": 15,
   "metadata": {},
   "outputs": [
    {
     "name": "stdout",
     "output_type": "stream",
     "text": [
      "10\n"
     ]
    }
   ],
   "source": [
    "sayi = 10\n",
    "print(sayi)"
   ]
  },
  {
   "cell_type": "code",
   "execution_count": 16,
   "metadata": {},
   "outputs": [
    {
     "name": "stdout",
     "output_type": "stream",
     "text": [
      "11\n"
     ]
    }
   ],
   "source": [
    "sayi = 11\n",
    "print(sayi)"
   ]
  },
  {
   "cell_type": "code",
   "execution_count": 17,
   "metadata": {},
   "outputs": [
    {
     "name": "stdout",
     "output_type": "stream",
     "text": [
      "12\n"
     ]
    }
   ],
   "source": [
    "sayi = sayi+1\n",
    "print(sayi)"
   ]
  },
  {
   "cell_type": "code",
   "execution_count": 18,
   "metadata": {},
   "outputs": [
    {
     "name": "stdout",
     "output_type": "stream",
     "text": [
      "10\n"
     ]
    }
   ],
   "source": [
    "sayi_ilk = 10\n",
    "print(sayi_ilk)"
   ]
  },
  {
   "cell_type": "code",
   "execution_count": 25,
   "metadata": {},
   "outputs": [],
   "source": [
    "sayi_ilk = 10\n",
    "_ =  20\n",
    "a = 30"
   ]
  },
  {
   "cell_type": "code",
   "execution_count": 28,
   "metadata": {},
   "outputs": [
    {
     "ename": "TypeError",
     "evalue": "'str' object is not callable",
     "output_type": "error",
     "traceback": [
      "\u001b[1;31m---------------------------------------------------------------------------\u001b[0m",
      "\u001b[1;31mTypeError\u001b[0m                                 Traceback (most recent call last)",
      "\u001b[1;32m<ipython-input-28-50acefef70e2>\u001b[0m in \u001b[0;36m<module>\u001b[1;34m\u001b[0m\n\u001b[0;32m      1\u001b[0m \u001b[0mprint\u001b[0m \u001b[1;33m=\u001b[0m \u001b[1;34m\"abc\"\u001b[0m\u001b[1;33m\u001b[0m\u001b[1;33m\u001b[0m\u001b[0m\n\u001b[1;32m----> 2\u001b[1;33m \u001b[0mprint\u001b[0m\u001b[1;33m(\u001b[0m\u001b[0mprint\u001b[0m\u001b[1;33m)\u001b[0m\u001b[1;33m\u001b[0m\u001b[1;33m\u001b[0m\u001b[0m\n\u001b[0m",
      "\u001b[1;31mTypeError\u001b[0m: 'str' object is not callable"
     ]
    }
   ],
   "source": [
    "print = \"abc\"\n",
    "print(...)"
   ]
  }
 ],
 "metadata": {
  "kernelspec": {
   "display_name": "Python 3",
   "language": "python",
   "name": "python3"
  },
  "language_info": {
   "codemirror_mode": {
    "name": "ipython",
    "version": 3
   },
   "file_extension": ".py",
   "mimetype": "text/x-python",
   "name": "python",
   "nbconvert_exporter": "python",
   "pygments_lexer": "ipython3",
   "version": "3.9.6 (default, Aug  5 2022, 15:21:02) \n[Clang 14.0.0 (clang-1400.0.29.102)]"
  },
  "vscode": {
   "interpreter": {
    "hash": "31f2aee4e71d21fbe5cf8b01ff0e069b9275f58929596ceb00d14d90e3e16cd6"
   }
  }
 },
 "nbformat": 4,
 "nbformat_minor": 4
}
